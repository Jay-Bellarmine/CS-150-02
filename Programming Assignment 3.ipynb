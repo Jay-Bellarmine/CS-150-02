{
 "cells": [
  {
   "cell_type": "code",
   "execution_count": 15,
   "id": "7cd8f3d9",
   "metadata": {},
   "outputs": [
    {
     "name": "stdout",
     "output_type": "stream",
     "text": [
      "Enter the length of the first side:5\n",
      "Enter the length of the second side:5\n",
      "Enter the length of the thrid side:5\n",
      "The area of the triangle is: 10.825317547305483\n",
      "The perimeter of the triangle is: 15\n"
     ]
    }
   ],
   "source": [
    "import math\n",
    "A=int(input('Enter the length of the first side:'))\n",
    "B=int(input('Enter the length of the second side:'))\n",
    "C=int(input('Enter the length of the thrid side:'))\n",
    "s=(A+B+C)/2\n",
    "area=math.sqrt(s*(s-A)*(s-B)*(s-C))\n",
    "p=(A+B+C)\n",
    "print('The area of the triangle is:', area )\n",
    "print('The perimeter of the triangle is:', p)"
   ]
  },
  {
   "cell_type": "code",
   "execution_count": 19,
   "id": "cf446b88",
   "metadata": {},
   "outputs": [
    {
     "name": "stdout",
     "output_type": "stream",
     "text": [
      "Make a Guess:500\n",
      "Too High\n",
      "Make a Guess:250\n",
      "Too High\n",
      "Make a Guess:100\n",
      "Too High\n",
      "Make a Guess:10\n",
      "Too Low!\n",
      "Make a Guess:20\n",
      "Too Low!\n",
      "Make a Guess:50\n",
      "Too Low!\n",
      "Make a Guess:75\n",
      "Too Low!\n",
      "Make a Guess:88\n",
      "Too Low!\n",
      "Make a Guess:90\n",
      "Too Low!\n",
      "Make a Guess:91\n",
      "Too Low!\n",
      "Make a Guess:95\n",
      "Too High\n",
      "Make a Guess:94\n",
      "Too High\n",
      "Make a Guess:93\n",
      "Lucky Guess!\n"
     ]
    }
   ],
   "source": [
    "import random \n",
    "number=random.randint(1,1000)\n",
    "def GuessNumber():\n",
    "    guess_number=0\n",
    "    while guess_number!=number:\n",
    "        guess_number=int(input('Make a Guess:'))\n",
    "        if guess_number<number:\n",
    "            print(\"Too Low!\")\n",
    "        if guess_number>number:\n",
    "            print(\"Too High\")\n",
    "        if guess_number==number:\n",
    "            print(\"Lucky Guess!\")\n",
    "            break\n",
    "\n",
    "GuessNumber()"
   ]
  },
  {
   "cell_type": "code",
   "execution_count": 21,
   "id": "ac3b1731",
   "metadata": {},
   "outputs": [
    {
     "name": "stdout",
     "output_type": "stream",
     "text": [
      "the average temperature in Louisville the past 3 days is 23.0 degrees Celsius\n"
     ]
    }
   ],
   "source": [
    "def meantemperature(*args):\n",
    "    mean= sum(args)/len(args)\n",
    "    print('the average temperature in Louisville the past', len(args), 'days is', mean, 'degrees Celsius')\n",
    "\n",
    "meantemperature(27,24,18)"
   ]
  },
  {
   "cell_type": "code",
   "execution_count": null,
   "id": "f96dae3d",
   "metadata": {},
   "outputs": [],
   "source": []
  }
 ],
 "metadata": {
  "kernelspec": {
   "display_name": "Python 3",
   "language": "python",
   "name": "python3"
  },
  "language_info": {
   "codemirror_mode": {
    "name": "ipython",
    "version": 3
   },
   "file_extension": ".py",
   "mimetype": "text/x-python",
   "name": "python",
   "nbconvert_exporter": "python",
   "pygments_lexer": "ipython3",
   "version": "3.8.8"
  }
 },
 "nbformat": 4,
 "nbformat_minor": 5
}
